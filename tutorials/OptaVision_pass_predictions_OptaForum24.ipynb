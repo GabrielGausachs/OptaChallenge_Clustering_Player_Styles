{
 "cells": [
  {
   "cell_type": "markdown",
   "metadata": {},
   "source": [
    "# Pulling data from the Opta Vision Remote (MA35) Feed\n",
    "\n",
    "This notebook outlines a basic framework to pull event-by-event data enriched with Opta Vision from the MA35 SDAPI feed.\n",
    "\n",
    "The feed particularily contains information about passes as created by our pass models xPass, xReceiver, and xThreat:\n",
    "- **xPass** is the likelihood that a pass will be completed to a player\n",
    "- **xReceiver** is the likelihood that the ball carrier is passing to a player\n",
    "- **xThreat** is the likelihood that a pass to a player will be followed by a shot within the next 10 seconds\n",
    "\n",
    "To be able to run this notebook properly please make sure that the file 'qualifier_names.csv' is located in the same folder as the notebook."
   ]
  },
  {
   "cell_type": "code",
   "execution_count": null,
   "metadata": {},
   "outputs": [],
   "source": [
    "import pandas as pd\n",
    "import json\n",
    "import os\n",
    "import numpy as np\n",
    "\n",
    "pd.options.display.max_columns = 999"
   ]
  },
  {
   "cell_type": "markdown",
   "metadata": {},
   "source": [
    "## Load Opta Vision data"
   ]
  },
  {
   "cell_type": "code",
   "execution_count": null,
   "metadata": {},
   "outputs": [],
   "source": [
    "base_path = '{path to pass prediction files}'\n",
    "game_id = 1\n",
    "file_name = f'{game_id}.json'\n",
    "\n",
    "# load data from file\n",
    "with open(f'{base_path}/{file_name}') as f:\n",
    "    data=json.loads(f.read())\n",
    "    \n",
    "f.close()\n",
    " \n",
    "# transform data into pandas dataframe\n",
    "events = pd.json_normalize(data['liveData']['event'])\n",
    "\n",
    "# make a copy of it for later usage\n",
    "events_all = events.copy()"
   ]
  },
  {
   "cell_type": "markdown",
   "metadata": {},
   "source": [
    "## Get Player Info"
   ]
  },
  {
   "cell_type": "code",
   "execution_count": null,
   "metadata": {},
   "outputs": [],
   "source": [
    "# merge on the player names from the Opta Vision data\n",
    "# player_info = events_all[['playerId', 'playerName']].drop_duplicates()"
   ]
  },
  {
   "cell_type": "markdown",
   "metadata": {},
   "source": [
    "## Get qualifier info"
   ]
  },
  {
   "cell_type": "markdown",
   "metadata": {},
   "source": [
    "To do deeper analysis we're going to need qualifier info on each event.\n",
    "\n",
    "Qualifier info is actually stored in the feed as a nested dictionary. We will merge on the qualifier names from a local dataset for ease of use here.\n",
    "\n",
    "This method below shows how to use this qualifier info. However, there remain some drawbacks:\n",
    "- This is also an expensive operation. For a full PL season I expect ~4 million qualifiers - which could be rather slow to handle."
   ]
  },
  {
   "cell_type": "code",
   "execution_count": null,
   "metadata": {},
   "outputs": [],
   "source": [
    "# read in qualifier list\n",
    "qualifier_names = pd.read_csv(\"qualifier_names.csv\")"
   ]
  },
  {
   "cell_type": "code",
   "execution_count": null,
   "metadata": {},
   "outputs": [],
   "source": [
    "# explode coverts each element in each list to a separate row\n",
    "cols = ['id', 'qualifier']\n",
    "qualifiers = events_all[cols].explode('qualifier')"
   ]
  },
  {
   "cell_type": "code",
   "execution_count": null,
   "metadata": {},
   "outputs": [],
   "source": [
    "# remove NA\n",
    "qualifiers = qualifiers[qualifiers.qualifier.notna()].reset_index(drop=True)"
   ]
  },
  {
   "cell_type": "code",
   "execution_count": null,
   "metadata": {},
   "outputs": [],
   "source": [
    "# save corresponding event ids for each qualifier\n",
    "event_ids = qualifiers.id.tolist()"
   ]
  },
  {
   "cell_type": "code",
   "execution_count": null,
   "metadata": {},
   "outputs": [],
   "source": [
    "qualifiers = pd.json_normalize(qualifiers[qualifiers.qualifier.notna()]['qualifier'])"
   ]
  },
  {
   "cell_type": "code",
   "execution_count": null,
   "metadata": {},
   "outputs": [],
   "source": [
    "qualifiers['event_id'] = event_ids"
   ]
  },
  {
   "cell_type": "code",
   "execution_count": null,
   "metadata": {},
   "outputs": [],
   "source": [
    "qualifiers = qualifiers.merge(qualifier_names, how='left', on='qualifierId')"
   ]
  },
  {
   "cell_type": "code",
   "execution_count": null,
   "metadata": {},
   "outputs": [],
   "source": [
    "qualifiers.head()"
   ]
  },
  {
   "cell_type": "markdown",
   "metadata": {},
   "source": [
    "### Keep only Pass End qualifiers (for now)\n",
    "\n",
    "To expand this, add the qualifier ids we need."
   ]
  },
  {
   "cell_type": "code",
   "execution_count": null,
   "metadata": {},
   "outputs": [],
   "source": [
    "pass_end_qualifiers = qualifiers[qualifiers.qualifierId.isin([140,141])].copy()"
   ]
  },
  {
   "cell_type": "code",
   "execution_count": null,
   "metadata": {},
   "outputs": [],
   "source": [
    "# convert to wide format with separate column for each qualifier\n",
    "pass_end_qualifiers = pass_end_qualifiers.pivot(index='event_id', columns='qualifier', values='value').reset_index()"
   ]
  },
  {
   "cell_type": "code",
   "execution_count": null,
   "metadata": {},
   "outputs": [],
   "source": [
    "pass_end_qualifiers['Pass End X'] = pass_end_qualifiers['Pass End X'].astype(float)\n",
    "pass_end_qualifiers['Pass End Y'] = pass_end_qualifiers['Pass End Y'].astype(float)"
   ]
  },
  {
   "cell_type": "code",
   "execution_count": null,
   "metadata": {},
   "outputs": [],
   "source": [
    "pass_end_qualifiers.head()"
   ]
  },
  {
   "cell_type": "code",
   "execution_count": null,
   "metadata": {},
   "outputs": [],
   "source": [
    "# Add the qualifiers to the events\n",
    "events = events_all.merge(pass_end_qualifiers,\n",
    "                                     how='left',\n",
    "                                     left_on='id',\n",
    "                                     right_on='event_id')"
   ]
  },
  {
   "cell_type": "markdown",
   "metadata": {},
   "source": [
    "## Pass Data"
   ]
  },
  {
   "cell_type": "code",
   "execution_count": null,
   "metadata": {},
   "outputs": [],
   "source": [
    "# filter to only pass events\n",
    "is_pass_event = events.typeId == 1\n",
    "is_without_predictions = events['passOption.player'].isna()\n",
    "remove_passes_without_predictions = events['passOption.player'].notna()\n",
    "remove_passes_without_target_predictions = events['passTarget.player'].notna()"
   ]
  },
  {
   "cell_type": "code",
   "execution_count": null,
   "metadata": {},
   "outputs": [],
   "source": [
    "pass_events = events.loc[is_pass_event & remove_passes_without_predictions & remove_passes_without_target_predictions]\n",
    "pass_events_without_predictions = events.loc[is_pass_event & is_without_predictions]"
   ]
  },
  {
   "cell_type": "code",
   "execution_count": null,
   "metadata": {},
   "outputs": [],
   "source": [
    "print(\"There are \" + str(len(pass_events)) + \" passes **with** predictions\")\n",
    "print(\"There are \" + str(len(pass_events_without_predictions)) + \" set piece passes without predictions\")"
   ]
  },
  {
   "cell_type": "code",
   "execution_count": null,
   "metadata": {},
   "outputs": [],
   "source": [
    "# flatten json for pass options\n",
    "pass_options = pass_events[['id', 'passOption.player']].explode('passOption.player')\n",
    "pass_options_flat = pd.json_normalize(pass_options['passOption.player'])\n",
    "\n",
    "# save corresponding event ids for each qualifier\n",
    "event_ids = pass_options[pass_options['passOption.player'].notna()].id.tolist()\n",
    "pass_options_flat['event_id'] = event_ids"
   ]
  },
  {
   "cell_type": "code",
   "execution_count": null,
   "metadata": {},
   "outputs": [],
   "source": [
    "# merge on the player names\n",
    "# player_cols = ['playerId']\n",
    "# pass_options_flat = pass_options_flat.merge(player_info[player_cols].drop_duplicates(),\n",
    "#                                             how='left',\n",
    "#                                             on=['playerId'])"
   ]
  },
  {
   "cell_type": "code",
   "execution_count": null,
   "metadata": {},
   "outputs": [],
   "source": [
    "# flatten json for pass target\n",
    "pass_targets = pass_events[['id', 'passTarget.player']].explode('passTarget.player')\n",
    "pass_targets_flat = pd.json_normalize(pass_targets['passTarget.player'])\n",
    "\n",
    "# save corresponding event ids for each qualifier\n",
    "target_event_ids = pass_targets[pass_targets['passTarget.player'].notna()].id.tolist()\n",
    "pass_targets_flat['event_id'] = target_event_ids"
   ]
  },
  {
   "cell_type": "code",
   "execution_count": null,
   "metadata": {},
   "outputs": [],
   "source": [
    "# merge on the player names\n",
    "# pass_targets_flat = pass_targets_flat.merge(player_info[player_cols].drop_duplicates(),\n",
    "#                                             how='left',\n",
    "#                                             on=['playerId'])"
   ]
  },
  {
   "cell_type": "code",
   "execution_count": null,
   "metadata": {},
   "outputs": [],
   "source": [
    "# join on the options and targets to the original passes\n",
    "pass_events_with_info = (pass_events\n",
    "                         .merge(pass_options_flat,\n",
    "                                how='left',\n",
    "                                on='event_id',\n",
    "                                suffixes=(\"\", \"_option\"))\n",
    "                         .merge(pass_targets_flat,\n",
    "                                how='left',\n",
    "                                on='event_id',\n",
    "                                suffixes=(\"\", \"_target\"))\n",
    "                        )"
   ]
  },
  {
   "cell_type": "code",
   "execution_count": null,
   "metadata": {},
   "outputs": [],
   "source": [
    "pass_events_with_info.head()"
   ]
  },
  {
   "cell_type": "code",
   "execution_count": null,
   "metadata": {},
   "outputs": [],
   "source": [
    "useful_pass_cols = ['id', 'typeId',\n",
    "                    'periodId', 'timeMin', 'timeSec', 'playerId',\n",
    "                    'outcome', 'x', 'y', 'Pass End X', 'Pass End Y', 'timeStamp', 'passOption.player',\n",
    "                    'xThreat.applied', 'keyPass',\n",
    "                    'assist', 'playerId_option', 'shirtNumber',\n",
    "                    'predictions.expectedPassReceiver.value', 'predictions.expectedPassCompletion.value',\n",
    "                    'predictions.expectedThreat.value', 'predictions.passOptionQuality.value', 'passTarget.player',\n",
    "                    'playerId_target', 'shirtNumber_target', 'predictions.expectedPassReceiver.value_target',\n",
    "                    'predictions.expectedPassCompletion.value_target', 'predictions.expectedThreat.value_target',\n",
    "                    'predictions.passOptionQuality.value_target']"
   ]
  },
  {
   "cell_type": "code",
   "execution_count": null,
   "metadata": {},
   "outputs": [],
   "source": [
    "# tidy column names\n",
    "passes = pass_events_with_info[useful_pass_cols].rename(columns={\"typeId\":\"event_type_id\",\n",
    "                                                                 \"id\":\"event_id\",\n",
    "                                                                 \"periodId\": \"period\",\n",
    "                                                                 \"timeMin\": \"minute\",\n",
    "                                                                 \"timeSec\": \"second\",\n",
    "                                                                 \"Pass End X\": \"endx\",\n",
    "                                                                 \"Pass End Y\": \"endy\",\n",
    "                                                                 \"xThreat.applied\": \"xThreat\",\n",
    "                                                                 \"keyPass\": \"chance_created\",\n",
    "                                                                 \"positionX\": \"x_option\",\n",
    "                                                                 \"positionY\": \"y_option\",\n",
    "                                                                 \"predictions.expectedPassReceiver.value\": \"xR_option\",\n",
    "                                                                 \"predictions.expectedPassCompletion.value\": \"xP_option\",\n",
    "                                                                 \"predictions.expectedThreat.value\": \"xT_option\",\n",
    "                                                                 \"predictions.passOptionQuality.value\": \"pass_option_quality\",\n",
    "                                                                 \"positionX_target\": \"x_target\",\n",
    "                                                                 \"positionY_target\": \"y_target\",\n",
    "                                                                 \"predictions.expectedPassReceiver.value_target\": \"xR_target\",\n",
    "                                                                 \"predictions.expectedPassCompletion.value_target\": \"xP_target\",\n",
    "                                                                 \"predictions.expectedThreat.value_target\": \"xT_target\",\n",
    "                                                                 \"predictions.passOptionQuality.value_target\": \"pass_option_quality_target\"\n",
    "                                                                })"
   ]
  },
  {
   "cell_type": "code",
   "execution_count": null,
   "metadata": {},
   "outputs": [],
   "source": [
    "# assign columns as numeric\n",
    "numeric_cols = ['xR_option', 'xP_option', 'xT_option', 'xR_target', 'xP_target', 'xT_target', 'x', 'y']\n",
    "passes[numeric_cols] = passes[numeric_cols].apply(pd.to_numeric)"
   ]
  },
  {
   "cell_type": "code",
   "execution_count": null,
   "metadata": {},
   "outputs": [],
   "source": [
    "# assign pass columns\n",
    "xReceiver_limit = 0.7\n",
    "\n",
    "passes.loc[:, \"is_realistic_pass\"] = np.where(passes.xR_option >= xReceiver_limit,\n",
    "                                              1, 0)\n",
    "\n",
    "passes.loc[:, \"is_target_pass\"] = np.where(passes.playerId_target == passes.playerId_option,\n",
    "                                           1, 0)\n",
    "\n",
    "passes.loc[:, \"is_realistic_and_target_pass\"] = np.where((passes.playerId_target == passes.playerId_option) &\n",
    "                                                         (passes.xR_option >= xReceiver_limit),\n",
    "                                                         1, 0)\n",
    "\n",
    "passes.loc[:, \"starts_in_own_third\"] = np.where(passes.x <= 33.33, 1, 0)"
   ]
  },
  {
   "cell_type": "code",
   "execution_count": null,
   "metadata": {},
   "outputs": [],
   "source": [
    "passes.head()"
   ]
  },
  {
   "cell_type": "markdown",
   "metadata": {},
   "source": [
    "## Availability Analysis"
   ]
  },
  {
   "cell_type": "code",
   "execution_count": null,
   "metadata": {},
   "outputs": [],
   "source": [
    "availability_player_cols = ['playerId_option']"
   ]
  },
  {
   "cell_type": "code",
   "execution_count": null,
   "metadata": {},
   "outputs": [],
   "source": [
    "availability_analysis = (passes\n",
    "                         .groupby(availability_player_cols)\n",
    "                         .agg(total_passes_while_on_pitch = ('event_id', 'count'),\n",
    "                              was_targeted = ('is_target_pass', 'sum'),\n",
    "                              was_realistic_option = ('is_realistic_pass', 'sum')\n",
    "                             )\n",
    "                         .reset_index()\n",
    "                        )"
   ]
  },
  {
   "cell_type": "code",
   "execution_count": null,
   "metadata": {},
   "outputs": [],
   "source": [
    "availability_analysis.loc[:, \"targeted_perc\"] = round(100*availability_analysis.was_targeted/\n",
    "                                                      availability_analysis.total_passes_while_on_pitch,1)\n",
    "\n",
    "availability_analysis.loc[:, \"used_when_available_perc\"] = round(100*availability_analysis.was_targeted/\n",
    "                                                      availability_analysis.was_realistic_option,1)\n",
    "\n",
    "availability_analysis.loc[:, \"availability_perc\"] = round(100*availability_analysis.was_realistic_option/\n",
    "                                                          availability_analysis.total_passes_while_on_pitch,1)"
   ]
  },
  {
   "cell_type": "code",
   "execution_count": null,
   "metadata": {},
   "outputs": [],
   "source": [
    "availability_analysis.head()"
   ]
  },
  {
   "cell_type": "code",
   "execution_count": null,
   "metadata": {},
   "outputs": [],
   "source": [
    "# set filters for availablilty\n",
    "# It would be better to use a minutes filter here\n",
    "# 1364 is the average Ligue 1 passes per team per game for three games\n",
    "is_mininum_passes_while_on_pitch = availability_analysis.total_passes_while_on_pitch >= 10"
   ]
  },
  {
   "cell_type": "code",
   "execution_count": null,
   "metadata": {},
   "outputs": [],
   "source": [
    "# let's look at the most available players\n",
    "(availability_analysis\n",
    " .loc[is_mininum_passes_while_on_pitch]\n",
    " .sort_values(by='used_when_available_perc', ascending=False)\n",
    " .head(10)\n",
    ")"
   ]
  },
  {
   "cell_type": "markdown",
   "metadata": {},
   "source": [
    "## Pass Predictions Analysis"
   ]
  },
  {
   "cell_type": "code",
   "execution_count": null,
   "metadata": {},
   "outputs": [],
   "source": [
    "# each pass has the options of passes to all other teammates. Filter to only 'realistic' passes.\n",
    "is_realistic_pass = passes.is_realistic_pass == 1"
   ]
  },
  {
   "cell_type": "code",
   "execution_count": null,
   "metadata": {},
   "outputs": [],
   "source": [
    "filtered_passes = passes.loc[is_realistic_pass]"
   ]
  },
  {
   "cell_type": "code",
   "execution_count": null,
   "metadata": {},
   "outputs": [],
   "source": [
    "xP_average = filtered_passes.xP_target.mean()\n",
    "xP_upper_quartile = filtered_passes.xP_target.quantile(0.75)\n",
    "xT_average = filtered_passes.xT_target.mean()\n",
    "xT_upper_quartile = filtered_passes.xT_target.quantile(0.75)\n",
    "xT_upper_2nd_decile = filtered_passes.xT_target.quantile(0.8)\n",
    "xT_upper_decile = filtered_passes.xT_target.quantile(0.9)"
   ]
  },
  {
   "cell_type": "code",
   "execution_count": null,
   "metadata": {},
   "outputs": [],
   "source": [
    "print(\"xP upper quartile = \" + str(round(xP_upper_quartile,4)) +\n",
    "      \" & xT upper quartile = \" + str(round(xT_upper_quartile,4)))"
   ]
  },
  {
   "cell_type": "code",
   "execution_count": null,
   "metadata": {},
   "outputs": [],
   "source": [
    "# set new columns\n",
    "filtered_passes.loc[:, \"is_good_opportunity\"] = np.where((filtered_passes.xT_option >= xT_upper_decile) &\n",
    "                                                         (filtered_passes.xP_option >= 0.8) &\n",
    "                                                         (filtered_passes.xR_option >= xReceiver_limit), 1, 0)\n",
    "\n",
    "filtered_passes.loc[:, \"good_opportunity_taken\"] = np.where((filtered_passes.is_target_pass == 1) &\n",
    "                                                            (filtered_passes.is_good_opportunity == 1), 1, 0)"
   ]
  },
  {
   "cell_type": "code",
   "execution_count": null,
   "metadata": {},
   "outputs": [],
   "source": [
    "filtered_passes.head()"
   ]
  },
  {
   "cell_type": "code",
   "execution_count": null,
   "metadata": {},
   "outputs": [],
   "source": [
    "group_pass_cols = ['event_id', 'playerId', 'outcome', 'period', 'minute',\n",
    "                   'second', 'x', 'y', 'endx', 'endy', 'playerId_target',\n",
    "                   'xR_target', 'xP_target', 'xT_target']\n",
    "\n",
    "pass_analysis = (filtered_passes\n",
    "                 .groupby(group_pass_cols)\n",
    "                 .agg(options = ('playerId_option', 'count'),\n",
    "                      good_passing_opportunites = ('is_good_opportunity', 'sum'),\n",
    "                      good_passing_opportunites_taken = ('good_opportunity_taken', 'sum'),\n",
    "                      xR_max = ('xR_option', 'max'),\n",
    "                      xR_min = ('xR_option', 'min'),\n",
    "                      xP_max = ('xP_option', 'max'),\n",
    "                      xP_min = ('xP_option', 'min'),\n",
    "                      xT_max = ('xT_option', 'max'),\n",
    "                      xT_min = ('xT_option', 'min')\n",
    "                     )\n",
    "                 .reset_index()\n",
    "                )"
   ]
  },
  {
   "cell_type": "code",
   "execution_count": null,
   "metadata": {},
   "outputs": [],
   "source": [
    "pass_analysis.loc[:, \"is_safest_pass\"] = np.where(pass_analysis.xP_target >= pass_analysis.xP_max, 1, 0)\n",
    "pass_analysis.loc[:, \"is_most_dangerous_pass\"] = np.where(pass_analysis.xT_target >= pass_analysis.xT_max, 1, 0)\n",
    "pass_analysis.loc[:, \"is_safe_pass\"] = np.where(pass_analysis.xP_target >= xP_upper_quartile, 1, 0)\n",
    "pass_analysis.loc[:, \"is_dangerous_pass\"] = np.where(pass_analysis.xT_target >= xT_upper_quartile, 1, 0)\n",
    "pass_analysis.loc[:, \"is_unpredictable_pass\"] = np.where(pass_analysis.xR_target < xReceiver_limit, 1, 0)\n",
    "pass_analysis.loc[:, \"good_passing_opportunites_missed\"] = np.where((pass_analysis.good_passing_opportunites > 0) &\n",
    "                                                                (pass_analysis.good_passing_opportunites_taken == 0) &\n",
    "                                                                    (pass_analysis.is_most_dangerous_pass == 0) &\n",
    "                                                                    #(pass_analysis.is_dangerous_pass == 0)\n",
    "                                                                    (pass_analysis.xT_target >= xT_upper_decile)\n",
    "                                                                    ,\n",
    "                                                                    1, 0)"
   ]
  },
  {
   "cell_type": "markdown",
   "metadata": {},
   "source": [
    "## Overall Player Pass Analysis\n",
    "\n",
    "Overall summaries of passes taken by players"
   ]
  },
  {
   "cell_type": "code",
   "execution_count": null,
   "metadata": {},
   "outputs": [],
   "source": [
    "passes.loc[:, \"is_good_opportunity\"] = np.where((passes.xT_option >= xT_upper_decile) &\n",
    "                                                (passes.xP_option >= 0.8) &\n",
    "                                                (passes.xR_option >= xReceiver_limit), 1, 0)\n",
    "\n",
    "passes.loc[:, \"good_opportunity_taken\"] = np.where((passes.is_target_pass == 1) &\n",
    "                                                   (passes.is_good_opportunity == 1), 1, 0)\n",
    "\n",
    "all_pass_analysis = (passes\n",
    "                     .groupby(group_pass_cols)\n",
    "                     .agg(\n",
    "                          options = ('playerId_option', 'count'),\n",
    "                          good_passing_opportunites = ('is_good_opportunity', 'sum'),\n",
    "                          good_passing_opportunites_taken = ('good_opportunity_taken', 'sum'),\n",
    "                          xR_max = ('xR_option', 'max'),\n",
    "                          xR_min = ('xR_option', 'min'),\n",
    "                          xP_max = ('xP_option', 'max'),\n",
    "                          xP_min = ('xP_option', 'min'),\n",
    "                          xT_max = ('xT_option', 'max'),\n",
    "                          xT_min = ('xT_option', 'min')\n",
    "                     )\n",
    "                 .reset_index()\n",
    "                )"
   ]
  },
  {
   "cell_type": "code",
   "execution_count": null,
   "metadata": {},
   "outputs": [],
   "source": [
    "all_pass_analysis.loc[:, \"is_safest_pass\"] = np.where(all_pass_analysis.xP_target >= all_pass_analysis.xP_max, 1, 0)\n",
    "all_pass_analysis.loc[:, \"is_most_dangerous_pass\"] = np.where(all_pass_analysis.xT_target >= all_pass_analysis.xT_max, 1, 0)\n",
    "all_pass_analysis.loc[:, \"is_safe_pass\"] = np.where(all_pass_analysis.xP_target >= xP_upper_quartile, 1, 0)\n",
    "all_pass_analysis.loc[:, \"is_dangerous_pass\"] = np.where(all_pass_analysis.xT_target >= xT_upper_quartile, 1, 0)\n",
    "all_pass_analysis.loc[:, \"is_unpredictable_pass\"] = np.where(all_pass_analysis.xR_target < xReceiver_limit, 1, 0)\n",
    "all_pass_analysis.loc[:, \"good_passing_opportunites_missed\"] = np.where((all_pass_analysis.good_passing_opportunites > 0) &\n",
    "                                                                (all_pass_analysis.good_passing_opportunites_taken == 0) &\n",
    "                                                                    (all_pass_analysis.is_most_dangerous_pass == 0) &\n",
    "                                                                    #(all_pass_analysis.is_dangerous_pass == 0),\n",
    "                                                                    (all_pass_analysis.xT_target >= xT_upper_decile),\n",
    "                                                                    1, 0)"
   ]
  },
  {
   "cell_type": "code",
   "execution_count": null,
   "metadata": {},
   "outputs": [],
   "source": [
    "player_cols = [ 'playerId']"
   ]
  },
  {
   "cell_type": "code",
   "execution_count": null,
   "metadata": {},
   "outputs": [],
   "source": [
    "player_analysis_all_passes = (all_pass_analysis\n",
    "                              .groupby(player_cols)\n",
    "                              .agg(total_passes = ('event_id', 'count'),\n",
    "                                  )\n",
    "                              .reset_index()\n",
    "                             )"
   ]
  },
  {
   "cell_type": "markdown",
   "metadata": {},
   "source": [
    "## Typical Player Pass Analysis"
   ]
  },
  {
   "cell_type": "code",
   "execution_count": null,
   "metadata": {},
   "outputs": [],
   "source": [
    "player_cols = ['playerId']"
   ]
  },
  {
   "cell_type": "code",
   "execution_count": null,
   "metadata": {},
   "outputs": [],
   "source": [
    "player_analysis = (pass_analysis\n",
    "                   .groupby(player_cols)\n",
    "                   .agg(total_passes = ('event_id', 'count'),\n",
    "                        safe_passes_taken = ('is_safe_pass', 'sum'),\n",
    "                        dangerous_option_taken = ('is_dangerous_pass', 'sum'),\n",
    "                        unpredictable_option_taken = ('is_unpredictable_pass', 'sum'),\n",
    "                        safest_pass_taken = ('is_safest_pass', 'sum'),\n",
    "                        most_dangerous_option_taken = ('is_most_dangerous_pass', 'sum'),\n",
    "                        good_passing_opportunites_missed = ('good_passing_opportunites_missed', 'sum'),\n",
    "                        good_passing_opportunites_taken = ('good_passing_opportunites_taken', 'sum'),\n",
    "                        average_options = ('options', 'mean'),\n",
    "                        average_xR = ('xR_target', 'mean'),\n",
    "                        average_xP = ('xP_target', 'mean'),\n",
    "                        average_xT = ('xT_target', 'mean')\n",
    "                       )\n",
    "                   .reset_index()\n",
    "                  )"
   ]
  },
  {
   "cell_type": "code",
   "execution_count": null,
   "metadata": {},
   "outputs": [],
   "source": [
    "player_analysis.head()"
   ]
  },
  {
   "cell_type": "code",
   "execution_count": null,
   "metadata": {},
   "outputs": [],
   "source": [
    "player_analysis.loc[:, \"safest_pass_perc\"] = round(100*player_analysis.safest_pass_taken/\n",
    "                                                   player_analysis.total_passes,1)\n",
    "\n",
    "player_analysis.loc[:, \"most_dangerous_option_perc\"] = round(100*player_analysis.most_dangerous_option_taken/\n",
    "                                                             player_analysis.total_passes,1)\n",
    "\n",
    "player_analysis.loc[:, \"unpredictable_option_perc\"] = round(100*player_analysis.unpredictable_option_taken/\n",
    "                                                             player_analysis.total_passes,1)\n",
    "\n",
    "player_analysis.loc[:, \"safe_pass_perc\"] = round(100*player_analysis.safe_passes_taken/\n",
    "                                                 player_analysis.total_passes,1)\n",
    "\n",
    "player_analysis.loc[:, \"dangerous_option_perc\"] = round(100*player_analysis.dangerous_option_taken/\n",
    "                                                        player_analysis.total_passes,1)\n",
    "\n",
    "player_analysis.loc[:,\n",
    "                    \"good_passing_opportunites_missed_perc\"] = round(100*\n",
    "                                                                     player_analysis.good_passing_opportunites_missed/\n",
    "                                                                     (player_analysis.good_passing_opportunites_missed +\n",
    "                                                                      player_analysis.good_passing_opportunites_taken),1)"
   ]
  },
  {
   "cell_type": "markdown",
   "metadata": {},
   "source": [
    "## Summary Stats"
   ]
  },
  {
   "cell_type": "code",
   "execution_count": null,
   "metadata": {},
   "outputs": [],
   "source": [
    "def opta_vision_summaries(data):\n",
    "    \n",
    "    # create summarise of given dataset\n",
    "    total_passes = data.event_id.nunique()\n",
    "    safest_passes = data.is_safest_pass.sum()\n",
    "    most_dangerous_passes = data.is_most_dangerous_pass.sum()\n",
    "    safe_passes = data.is_safe_pass.sum()\n",
    "    dangerous_passes = data.is_dangerous_pass.sum()\n",
    "    unpredictable_passes = data.is_unpredictable_pass.sum()\n",
    "    average_options = data.options.mean().round(1)\n",
    "    safest_pass_perc = round(100*safest_passes/total_passes,1)\n",
    "    most_dangerous_pass_perc = round(100*most_dangerous_passes/total_passes,1)\n",
    "    safe_pass_perc = round(100*safe_passes/total_passes,1)\n",
    "    dangerous_pass_perc = round(100*dangerous_passes/total_passes,1)\n",
    "    unpredictable_pass_perc = round(100*unpredictable_passes/total_passes,1)\n",
    "    missed_opportunites = data.good_passing_opportunites_missed.sum()\n",
    "    good_opportunites = (data.good_passing_opportunites_taken.sum()+data.good_passing_opportunites_missed.sum())\n",
    "    missed_opp_perc = round(100*missed_opportunites/good_opportunites,1)\n",
    "    \n",
    "\n",
    "    print(f\"There are {total_passes} total passes\")\n",
    "    print(f\"On average, a player has {average_options} options when they make a pass\")\n",
    "    print(f\"A player takes the safest option {safest_pass_perc}% of the time\")\n",
    "    print(f\"A player takes the most dangerous option {most_dangerous_pass_perc}% of the time\")\n",
    "    print(f\"A player takes a safe option {safe_pass_perc}% of the time\")\n",
    "    print(f\"A player takes a dangerous option {dangerous_pass_perc}% of the time\")\n",
    "    print(f\"A player takes an unlikely option {unpredictable_pass_perc}% of the time\")\n",
    "    print(f\"Good opportunies are missed {missed_opp_perc}% of the time\")"
   ]
  },
  {
   "cell_type": "code",
   "execution_count": null,
   "metadata": {},
   "outputs": [],
   "source": [
    "print(\"ALL PASSES:\")\n",
    "opta_vision_summaries(all_pass_analysis)"
   ]
  },
  {
   "cell_type": "code",
   "execution_count": null,
   "metadata": {},
   "outputs": [],
   "source": [
    "print(\"REALISTIC PASSES:\")\n",
    "opta_vision_summaries(pass_analysis)"
   ]
  },
  {
   "cell_type": "markdown",
   "metadata": {},
   "source": [
    "## Final Player Outputs"
   ]
  },
  {
   "cell_type": "code",
   "execution_count": null,
   "metadata": {},
   "outputs": [],
   "source": [
    "player_id_list = events_all.playerId.dropna().unique().tolist()[:3]"
   ]
  },
  {
   "cell_type": "code",
   "execution_count": null,
   "metadata": {},
   "outputs": [],
   "source": [
    "is_chosen_players = player_analysis.playerId.isin(player_id_list)\n",
    "is_merged_players = player_analysis_all_passes.playerId.isin(player_id_list)\n",
    "is_availability_players = availability_analysis.playerId_option.isin(player_id_list)"
   ]
  },
  {
   "cell_type": "code",
   "execution_count": null,
   "metadata": {},
   "outputs": [],
   "source": [
    "merged_cols = ['playerId']"
   ]
  },
  {
   "cell_type": "code",
   "execution_count": null,
   "metadata": {},
   "outputs": [],
   "source": [
    "pressure_cols = ['playerId', 'playerName',\n",
    "                 'pressures', 'high_pressures', 'high_pressure_perc'\n",
    "                ]"
   ]
  },
  {
   "cell_type": "code",
   "execution_count": null,
   "metadata": {},
   "outputs": [],
   "source": [
    "option_cols = ['playerId', 'total_passes',\n",
    "               'average_options',\n",
    "               'safest_pass_perc', 'most_dangerous_option_perc', 'unpredictable_option_perc', 'safe_pass_perc',\n",
    "               'dangerous_option_perc', 'good_passing_opportunites_missed_perc']"
   ]
  },
  {
   "cell_type": "code",
   "execution_count": null,
   "metadata": {},
   "outputs": [],
   "source": [
    "availability_cols = ['playerId_option',\n",
    "                     'total_passes_while_on_pitch', \n",
    "                     'targeted_perc', \n",
    "                     'used_when_available_perc', \n",
    "                     'availability_perc']"
   ]
  },
  {
   "cell_type": "code",
   "execution_count": null,
   "metadata": {},
   "outputs": [],
   "source": [
    "player_analysis.loc[is_chosen_players][option_cols]"
   ]
  },
  {
   "cell_type": "code",
   "execution_count": null,
   "metadata": {
    "scrolled": true
   },
   "outputs": [],
   "source": [
    "availability_analysis.loc[is_availability_players][availability_cols]"
   ]
  },
  {
   "cell_type": "markdown",
   "metadata": {},
   "source": [
    "## Insights"
   ]
  },
  {
   "cell_type": "code",
   "execution_count": null,
   "metadata": {},
   "outputs": [],
   "source": [
    "is_mininum_passes = player_analysis.total_passes >= 10"
   ]
  },
  {
   "cell_type": "code",
   "execution_count": null,
   "metadata": {},
   "outputs": [],
   "source": [
    "(player_analysis\n",
    " .loc[is_mininum_passes][option_cols]\n",
    " .sort_values(by='safest_pass_perc',\n",
    "              ascending=True)\n",
    " .head(10)\n",
    ")"
   ]
  },
  {
   "cell_type": "code",
   "execution_count": null,
   "metadata": {},
   "outputs": [],
   "source": [
    "(player_analysis\n",
    " .loc[is_mininum_passes][option_cols]\n",
    " .sort_values(by='most_dangerous_option_perc',\n",
    "              ascending=False)\n",
    " .head(10)\n",
    ")"
   ]
  },
  {
   "cell_type": "code",
   "execution_count": null,
   "metadata": {},
   "outputs": [],
   "source": []
  },
  {
   "cell_type": "code",
   "execution_count": null,
   "metadata": {},
   "outputs": [],
   "source": []
  },
  {
   "cell_type": "code",
   "execution_count": null,
   "metadata": {},
   "outputs": [],
   "source": []
  }
 ],
 "metadata": {
  "kernelspec": {
   "display_name": "Python 3 (ipykernel)",
   "language": "python",
   "name": "python3"
  },
  "language_info": {
   "codemirror_mode": {
    "name": "ipython",
    "version": 3
   },
   "file_extension": ".py",
   "mimetype": "text/x-python",
   "name": "python",
   "nbconvert_exporter": "python",
   "pygments_lexer": "ipython3",
   "version": "3.9.17"
  },
  "vscode": {
   "interpreter": {
    "hash": "887044de6af880c16aa4294b46e8f22f03f4d82ebd6d3f8544d1a43d6320d86a"
   }
  }
 },
 "nbformat": 4,
 "nbformat_minor": 2
}
