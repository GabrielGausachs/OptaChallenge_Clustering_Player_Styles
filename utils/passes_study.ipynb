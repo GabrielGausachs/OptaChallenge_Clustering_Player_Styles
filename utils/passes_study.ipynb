{
 "cells": [
  {
   "cell_type": "markdown",
   "metadata": {},
   "source": [
    "## Studi dels passes"
   ]
  },
  {
   "cell_type": "markdown",
   "metadata": {},
   "source": [
    "There are 931 passes **with** predictions\n",
    "There are 93 set piece passes without predictions\n",
    "\n",
    "- Hi ha la columna passTarget.player que surt el expected completion que significa la probabilitat que aquest pase sigui completat. Relacionant això amb el si el pase ha sigut completat o no, es pot treure la qualitat del jugador en fer bons passes.\n",
    "\n",
    "- Tenim l'analisi de lo available que esta el jugador quan va a rebre un pase."
   ]
  }
 ],
 "metadata": {
  "language_info": {
   "name": "python"
  }
 },
 "nbformat": 4,
 "nbformat_minor": 2
}
